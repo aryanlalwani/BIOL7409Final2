{
  "cells": [
    {
      "cell_type": "code",
      "execution_count": null,
      "metadata": {},
      "outputs": [],
      "source": [
        "!pip install neuron"
      ]
    },
    {
      "cell_type": "code",
      "execution_count": null,
      "metadata": {},
      "outputs": [],
      "source": [
        "!nrnivmodl mechanisms"
      ]
    },
    {
      "cell_type": "code",
      "execution_count": 1,
      "metadata": {},
      "outputs": [],
      "source": [
        "from neuron import h\n",
        "from neuron import gui\n",
        "from plotly.subplots import make_subplots\n",
        "import plotly.graph_objects as go\n",
        "import numpy as np\n",
        "import matplotlib.pyplot as plt"
      ]
    },
    {
      "cell_type": "code",
      "execution_count": 2,
      "metadata": {},
      "outputs": [
        {
          "name": "stdout",
          "output_type": "stream",
          "text": [
            "\t1 \n",
            "\n",
            "|----------|       soma(0-1)\n",
            "            `---------|       hill(0-1)\n",
            "                       `---------|       ais[0](0-1)\n",
            "                                  `---------|       ais[1](0-1)\n",
            "                                             `---------|       ais[2](0-1)\n",
            "                                                        `---------|       ais[3](0-1)\n",
            "                                                                   `---------|       ais[4](0-1)\n",
            "                                                                              `---------|       ais[5](0-1)\n",
            "                                                                                         `---------|       ais[6](0-1)\n",
            "                                                                                                    `---------|       ais[7](0-1)\n",
            "                                                                                                               `---------|       ais[8](0-1)\n",
            "                                                                                                                          `---------|       ais[9](0-1)\n",
            "                                                                                                                                     `---------------------------------------------------------------------------------------------------|       nakeaxon(0-1)\n",
            "                                                                                                                                                                                                                                          `----|       myelin[0](0-1)\n",
            "                                                                                                                                                                                                                                                `|       node[0](0-1)\n",
            "                                                                                                                                                                                                                                                  `----|       myelin[1](0-1)\n",
            "                                                                                                                                                                                                                                                        `|       node[1](0-1)\n",
            "                                                                                                                                                                                                                                                          `----|       myelin[2](0-1)\n",
            "                                                                                                                                                                                                                                                                `|       node[2](0-1)\n",
            "                                                                                                                                                                                                                                                                  `----|       myelin[3](0-1)\n",
            "                                                                                                                                                                                                                                                                        `|       node[3](0-1)\n",
            "                                                                                                                                                                                                                                                                          `----|       myelin[4](0-1)\n",
            "                                                                                                                                                                                                                                                                                `|       node[4](0-1)\n",
            "                                                                                                                                                                                                                                                                                  `----|       myelin[5](0-1)\n",
            "                                                                                                                                                                                                                                                                                        `|       node[5](0-1)\n",
            "                                                                                                                                                                                                                                                                                          `----|       myelin[6](0-1)\n",
            "                                                                                                                                                                                                                                                                                                `|       node[6](0-1)\n",
            "                                                                                                                                                                                                                                                                                                  `----|       myelin[7](0-1)\n",
            "                                                                                                                                                                                                                                                                                                        `|       node[7](0-1)\n",
            "                                                                                                                                                                                                                                                                                                          `----|       myelin[8](0-1)\n",
            "                                                                                                                                                                                                                                                                                                                `|       node[8](0-1)\n",
            "                                                                                                                                                                                                                                                                                                                  `----|       myelin[9](0-1)\n",
            "                                                                                                                                                                                                                                                                                                                        `|       node[9](0-1)\n",
            "                                                                                                                                                                                                                                                                                                                          `----|       myelin[10](0-1)\n",
            "                                                                                                                                                                                                                                                                                                                                `|       node[10](0-1)\n",
            "                                                                                                                                                                                                                                                                                                                                  `----|       myelin[11](0-1)\n",
            "                                                                                                                                                                                                                                                                                                                                        `|       node[11](0-1)\n",
            "                                                                                                                                                                                                                                                                                                                                          `----|       myelin[12](0-1)\n",
            "                                                                                                                                                                                                                                                                                                                                                `|       node[12](0-1)\n",
            "                                                                                                                                                                                                                                                                                                                                                  `----|       myelin[13](0-1)\n",
            "                                                                                                                                                                                                                                                                                                                                                        `|       node[13](0-1)\n",
            "       `|       dend1[0](0-1)\n",
            "         `|       dend1[1](0-1)\n",
            "           `------|       dend1[2](0-1)\n",
            "           `-|       dend1[3](0-1)\n",
            "              `---|       dend1[4](0-1)\n",
            "              `---|       dend1[5](0-1)\n",
            "         `|       dend1[6](0-1)\n",
            "           `----|       dend1[7](0-1)\n",
            "           `----|       dend1[8](0-1)\n",
            "       `|       dend2[0](0-1)\n",
            "         `|       dend2[1](0-1)\n",
            "           `-----|       dend2[2](0-1)\n",
            "           `----|       dend2[3](0-1)\n",
            "         `|       dend2[4](0-1)\n",
            "           `|       dend2[5](0-1)\n",
            "             `----|       dend2[6](0-1)\n",
            "             `|       dend2[7](0-1)\n",
            "               `-----|       dend2[8](0-1)\n",
            "               `------|       dend2[9](0-1)\n",
            "           `|       dend2[10](0-1)\n",
            "             `----|       dend2[11](0-1)\n",
            "             `-----|       dend2[12](0-1)\n",
            "       `|       dend3[0](0-1)\n",
            "         `------|       dend3[1](0-1)\n",
            "         `|       dend3[2](0-1)\n",
            "           `------|       dend3[3](0-1)\n",
            "           `-----|       dend3[4](0-1)\n",
            "       `|       dend4[0](0-1)\n",
            "         `--|       dend4[1](0-1)\n",
            "             `-|       dend4[2](0-1)\n",
            "             `--|       dend4[3](0-1)\n",
            "         `|       dend4[4](0-1)\n",
            "           `------|       dend4[5](0-1)\n",
            "           `----|       dend4[6](0-1)\n",
            "       `------|       dend5[0](0-1)\n",
            "       `|       dend6[0](0-1)\n",
            "         `-|       dend6[1](0-1)\n",
            "         `|       dend6[2](0-1)\n",
            "           `|       dend6[3](0-1)\n",
            "             `---|       dend6[4](0-1)\n",
            "             `----|       dend6[5](0-1)\n",
            "           `|       dend6[6](0-1)\n",
            "             `----|       dend6[7](0-1)\n",
            "             `|       dend6[8](0-1)\n",
            "               `-----|       dend6[9](0-1)\n",
            "               `-----|       dend6[10](0-1)\n",
            "       `|       dend7[0](0-1)\n",
            "         `-|       dend7[1](0-1)\n",
            "            `--|       dend7[2](0-1)\n",
            "            `|       dend7[3](0-1)\n",
            "              `--|       dend7[4](0-1)\n",
            "              `---|       dend7[5](0-1)\n",
            "         `|       dend7[6](0-1)\n",
            "           `-|       dend7[7](0-1)\n",
            "              `---|       dend7[8](0-1)\n",
            "              `----|       dend7[9](0-1)\n",
            "           `|       dend7[10](0-1)\n",
            "             `-----|       dend7[11](0-1)\n",
            "             `-----|       dend7[12](0-1)\n",
            "       `|       dend8[0](0-1)\n",
            "         `-----|       dend8[1](0-1)\n",
            "         `|       dend8[2](0-1)\n",
            "           `------|       dend8[3](0-1)\n",
            "           `----|       dend8[4](0-1)\n",
            "       `|       dend9[0](0-1)\n",
            "         `-----|       dend9[1](0-1)\n",
            "         `|       dend9[2](0-1)\n",
            "           `---|       dend9[3](0-1)\n",
            "           `-----|       dend9[4](0-1)\n",
            "       `|       dend10[0](0-1)\n",
            "         `-----|       dend10[1](0-1)\n",
            "         `|       dend10[2](0-1)\n",
            "           `-|       dend10[3](0-1)\n",
            "              `-|       dend10[4](0-1)\n",
            "              `---|       dend10[5](0-1)\n",
            "           `|       dend10[6](0-1)\n",
            "             `----|       dend10[7](0-1)\n",
            "             `|       dend10[8](0-1)\n",
            "               `------|       dend10[9](0-1)\n",
            "               `-----|       dend10[10](0-1)\n",
            " `|       dend11[0](0-1)\n",
            "   `|       dend11[1](0-1)\n",
            "     `--|       dend11[2](0-1)\n",
            "     `---|       dend11[3](0-1)\n",
            "   `|       dend11[4](0-1)\n",
            "     `|       dend11[5](0-1)\n",
            "       `-|       dend11[6](0-1)\n",
            "          `---|       dend11[7](0-1)\n",
            "          `---|       dend11[8](0-1)\n",
            "       `----|       dend11[9](0-1)\n",
            "     `|       dend11[10](0-1)\n",
            "       `|       dend11[11](0-1)\n",
            "         `-|       dend11[12](0-1)\n",
            "            `|       dend11[13](0-1)\n",
            "            `--|       dend11[14](0-1)\n",
            "         `---|       dend11[15](0-1)\n",
            "       `|       dend11[16](0-1)\n",
            "         `---|       dend11[17](0-1)\n",
            "         `|       dend11[18](0-1)\n",
            "           `---|       dend11[19](0-1)\n",
            "           `|       dend11[20](0-1)\n",
            "             `---|       dend11[21](0-1)\n",
            "             `---------|       dend11[22](0-1)\n",
            "                        `--|       dend11[23](0-1)\n",
            "                            `------|       dend11[24](0-1)\n",
            "                                    `-|       dend11[25](0-1)\n",
            "                                       `-------|       dend11[26](0-1)\n",
            "                                       `---|       dend11[27](0-1)\n",
            "                                            `----|       dend11[28](0-1)\n",
            "                                            `|       dend11[29](0-1)\n",
            "                                              `--|       dend11[30](0-1)\n",
            "                                              `---|       dend11[31](0-1)\n",
            "                                    `---|       dend11[32](0-1)\n",
            "                                         `--|       dend11[33](0-1)\n",
            "                                         `|       dend11[34](0-1)\n",
            "                                           `---|       dend11[35](0-1)\n",
            "                                           `---|       dend11[36](0-1)\n",
            "                                                `---|       dend11[37](0-1)\n",
            "                                                `-|       dend11[38](0-1)\n",
            "                            `----|       dend11[39](0-1)\n",
            "                                  `----|       dend11[40](0-1)\n",
            "                                        `|       dend11[41](0-1)\n",
            "                                          `--|       dend11[42](0-1)\n",
            "                                          `-|       dend11[43](0-1)\n",
            "                                             `--|       dend11[44](0-1)\n",
            "                                             `|       dend11[45](0-1)\n",
            "                                               `|       dend11[46](0-1)\n",
            "                                               `--|       dend11[47](0-1)\n",
            "                                        `--|       dend11[48](0-1)\n",
            "                                            `-|       dend11[49](0-1)\n",
            "                                            `-|       dend11[50](0-1)\n",
            "                                  `----|       dend11[51](0-1)\n",
            "                                        `-|       dend11[52](0-1)\n",
            "                                           `----|       dend11[53](0-1)\n",
            "                                           `--|       dend11[54](0-1)\n",
            "                                        `--|       dend11[55](0-1)\n",
            "                                            `---|       dend11[56](0-1)\n",
            "                                            `--|       dend11[57](0-1)\n",
            "                        `---------|       dend11[58](0-1)\n",
            "                                   `-|       dend11[59](0-1)\n",
            "                                      `----|       dend11[60](0-1)\n",
            "                                      `|       dend11[61](0-1)\n",
            "                                        `--|       dend11[62](0-1)\n",
            "                                        `|       dend11[63](0-1)\n",
            "                                          `---|       dend11[64](0-1)\n",
            "                                          `-|       dend11[65](0-1)\n",
            "                                             `|       dend11[66](0-1)\n",
            "                                               `|       dend11[67](0-1)\n",
            "                                               `-----|       dend11[68](0-1)\n",
            "                                             `---------|       dend11[69](0-1)\n",
            "                                   `-|       dend11[70](0-1)\n",
            "                                      `|       dend11[71](0-1)\n",
            "                                        `--|       dend11[72](0-1)\n",
            "                                            `-|       dend11[73](0-1)\n",
            "                                            `|       dend11[74](0-1)\n",
            "                                              `|       dend11[75](0-1)\n",
            "                                              `--|       dend11[76](0-1)\n",
            "                                        `-----|       dend11[77](0-1)\n",
            "                                      `--|       dend11[78](0-1)\n",
            "                                          `--|       dend11[79](0-1)\n",
            "                                          `-|       dend11[80](0-1)\n",
            "                                             `---|       dend11[81](0-1)\n",
            "                                             `---|       dend11[82](0-1)\n",
            "\n"
          ]
        },
        {
          "data": {
            "text/plain": [
              "1.0"
            ]
          },
          "execution_count": 2,
          "metadata": {},
          "output_type": "execute_result"
        }
      ],
      "source": [
        "h.load_file('load_L5PC_Hu2009.hoc')\n",
        "\n",
        "h.topology()"
      ]
    },
    {
      "attachments": {},
      "cell_type": "markdown",
      "metadata": {},
      "source": [
        "All sections are now defined in HOC, so to access, we have to use `h.<section name>`. Or to make accessing things from python easier you can save the hoc section to a python variable"
      ]
    },
    {
      "cell_type": "code",
      "execution_count": 3,
      "metadata": {},
      "outputs": [
        {
          "name": "stdout",
          "output_type": "stream",
          "text": [
            "<class 'nrn.Section'>\n"
          ]
        },
        {
          "data": {
            "text/plain": [
              "dict_keys(['pas', 'ca', 'cad', 'kca', 'km', 'kv', 'na12', 'na16'])"
            ]
          },
          "execution_count": 3,
          "metadata": {},
          "output_type": "execute_result"
        }
      ],
      "source": [
        "soma = h.soma\n",
        "print(type(soma)) # python neuron section, can use python methods on hoc section\n",
        "soma.psection()['density_mechs'].keys() # look at channels inserted into soma"
      ]
    },
    {
      "attachments": {},
      "cell_type": "markdown",
      "metadata": {},
      "source": [
        "Note: For whatever reason, Hu used both 'na' and 'na12' which are identical mod files and are both meant to represent Nav1.2. I replaced na in their code to na12 to make thing clearer. Their na is also different from the na.mod used in Mainen, so this allows you to use na.mod for the Mainen model and na12.mod for the Hu 2009 version of the Mainen model. Also, these mod files use $pS/\\mu m^{2}$, while the `Nav11.mod` and `ichanWT2005.mod` use $S/cm^{2}$ ($1 \\; S/cm^2 = 10,000 \\; pS/\\mu m^2$). \n",
        "\n",
        "Another note, this model has multiple sections defining the axon hillock and axon initial segment (AIS). It looks like changing somatic Nav (even without adding Nav1.1) doesn't seem to affect AP threshold or firing rate much. Hu 2009 paper shows this to some extent in Fig. 5D. This may be because the axon hillock and AIS have such high Nav channel density in this model (the exact density of Nav channels in the AIS is still debated). So, in addition to testing the effect of varyign Nav1.1 in the soma alone, you may want to vary nav1.1 in both the soma and axon hillock together. There's actually some evidence nav1.1 is expressed in the AIS of some cortical neurons (https://www.jneurosci.org/content/28/53/14329.short)"
      ]
    },
    {
      "cell_type": "code",
      "execution_count": 4,
      "metadata": {},
      "outputs": [
        {
          "name": "stdout",
          "output_type": "stream",
          "text": [
            "80.0\n",
            "0.0\n"
          ]
        }
      ],
      "source": [
        "print(soma.gbar_na12)\n",
        "print(soma.gbar_na16) # this is set to zero (idk why they inserted this all...)\n",
        "\n",
        "total_soma_gna = soma.gbar_na12 # pS/um^2\n",
        "\n",
        "# Axon hillock \n",
        "hill = h.hill # name of axon hillock section\n",
        "total_hill_gna = hill.gbar_na12\n",
        "\n",
        "# Add IClamp\n",
        "iclamp = h.IClamp(soma(0.5))\n",
        "iclamp.delay = 5\n",
        "iclamp.dur = 1000\n",
        "iclamp.amp = 1\n",
        "\n",
        "t_vec = h.Vector().record(h._ref_t)\n",
        "soma_v = h.Vector().record(soma(0.5)._ref_v)"
      ]
    },
    {
      "attachments": {},
      "cell_type": "markdown",
      "metadata": {},
      "source": [
        "Try adding Nav1.1 and setting conductance ratio."
      ]
    },
    {
      "cell_type": "code",
      "execution_count": 5,
      "metadata": {},
      "outputs": [],
      "source": [
        "soma.insert('nav11')\n",
        "hill.insert('nav11')\n",
        "\n",
        "def set_soma_hill_nav11(nav11_ratio,total_soma_gna,total_hill_gna):\n",
        "    soma.gbar_nav11 = nav11_ratio*total_soma_gna*1e-4 # convert to S/cm2\n",
        "    soma.gbar_na12 = (1-nav11_ratio)*total_soma_gna # pS/um^2\n",
        "    hill.gbar_nav11 = nav11_ratio*total_hill_gna*1e-4 # convert to S/cm2\n",
        "    hill.gbar_na12 = (1-nav11_ratio)*total_hill_gna # pS/um^2"
      ]
    },
    {
      "cell_type": "code",
      "execution_count": 7,
      "metadata": {},
      "outputs": [
        {
          "data": {
            "image/png": "[encoded data removed]",
            "text/plain": [
              "<Figure size 640x480 with 1 Axes>"
            ]
          },
          "metadata": {},
          "output_type": "display_data"
        }
      ],
      "source": [
        "nav11_ratio = 0 # set ratio (0-1) of nav1.1 to nav1.2 density\n",
        "# Try using nav1.1 in soma/axon hillock\n",
        "set_soma_hill_nav11(nav11_ratio,total_soma_gna,total_hill_gna)\n",
        "\n",
        "# Set simulation parameters and run\n",
        "h.celsius = 37\n",
        "h.tstop = 100\n",
        "h.run()\n",
        "soma_v_nav11_off = np.array(soma_v) # save somatic voltage recording\n",
        "\n",
        "# Turn on Nav1.1 exclusively\n",
        "nav11_ratio = 1\n",
        "set_soma_hill_nav11(nav11_ratio,total_soma_gna,total_hill_gna)\n",
        "h.run()\n",
        "soma_v_nav11_on = np.array(soma_v) # save somatic voltage recording\n",
        "\n",
        "# Plot \n",
        "\n",
        "fig = plt.figure()\n",
        "ax = fig.add_subplot(111)\n",
        "ax.plot(t_vec,soma_v_nav11_off,label='nav11 off')\n",
        "ax.plot(t_vec,soma_v_nav11_on,label='nav11 on')\n",
        "ax.set_xlabel('time (ms)')\n",
        "ax.set_ylabel('Vm (mV)');\n",
        "ax.set_ylim(-80,50)\n",
        "ax.legend();\n",
        "# Reset to normal\n",
        "set_soma_hill_nav11(0,total_soma_gna,total_hill_gna)\n"
      ]
    },
    {
      "attachments": {},
      "cell_type": "markdown",
      "metadata": {},
      "source": []
    }
  ],
  "metadata": {
    "colab": {
      "include_colab_link": true,
      "provenance": [],
      "toc_visible": true
    },
    "kernelspec": {
      "display_name": "Python 3",
      "name": "python3"
    },
    "language_info": {
      "codemirror_mode": {
        "name": "ipython",
        "version": 3
      },
      "file_extension": ".py",
      "mimetype": "text/x-python",
      "name": "python",
      "nbconvert_exporter": "python",
      "pygments_lexer": "ipython3",
      "version": "3.9.16"
    }
  },
  "nbformat": 4,
  "nbformat_minor": 0
}
