{
  "cells": [
    {
      "cell_type": "code",
      "execution_count": null,
      "metadata": {},
      "outputs": [],
      "source": [
        "!pip install neuron"
      ]
    },
    {
      "cell_type": "code",
      "execution_count": null,
      "metadata": {},
      "outputs": [],
      "source": [
        "!nrnivmodl mechanisms"
      ]
    },
    {
      "cell_type": "code",
      "execution_count": null,
      "metadata": {},
      "outputs": [],
      "source": [
        "from neuron import h\n",
        "from neuron import gui\n",
        "from plotly.subplots import make_subplots\n",
        "import plotly.graph_objects as go\n",
        "import numpy as np\n",
        "import matplotlib.pyplot as plt"
      ]
    },
    {
      "cell_type": "code",
      "execution_count": null,
      "metadata": {},
      "outputs": [],
      "source": [
        "# h.load_file('load_L5PC')\n",
        "\n",
        "# h.topology()\n",
        "# Geometry\n",
        "soma = h.Section(name='soma')\n",
        "soma.diam = 20\n",
        "soma.L = 10\n",
        "soma.nseg = 1\n",
        "\n",
        "# Biophysics\n",
        "soma.insert('pas')\n",
        "soma.insert('extracellular')\n",
        "soma.g_pas = 3e-5\n",
        "soma.e_pas = -60\n",
        "soma.insert('nav11')\n",
        "soma.gbar_nav11 = 0.2\n",
        "\n",
        "\n",
        "# Add voltage clamp\n",
        "vclamp = h.SEClamp(soma(0.5)) # add voltage clamp to the middle of our secion (x=0.5)\n",
        "vclamp.dur1 = 2 # ms - duration of initial clamp voltage\n",
        "vclamp.amp1 = -70 # mV - initial clamp voltage\n",
        "vclamp.dur2 = 20 # ms - duration of second clamp voltage\n",
        "vclamp.amp2 = 0 # mV - second clamp voltage\n",
        "vclamp.dur3 = 5 # ms - duration of final clamp voltage\n",
        "vclamp.amp3 = vclamp.amp1 # ms - amplitude of final clamp voltage (return to start)\n",
        "vclamp.rs = 1e-3\n",
        "\n",
        "t = h.Vector().record(h._ref_t) # time vector\n",
        "V = h.Vector().record(soma(0.5)._ref_v) # intracellular voltage (same as membrane potential in our case)\n",
        "I = h.Vector().record(vclamp._ref_i) # voltage clamp current (equal to membrane current)\n",
        "Im = h.Vector().record(soma(0.5)._ref_i_membrane)\n",
        "Vc = h.Vector().record(vclamp._ref_vc)\n",
        "Ina = h.Vector().record(soma(0.5)._ref_ina_nav11)\n",
        "m_vec = h.Vector().record(soma(0.5)._ref_m_nav11)\n",
        "h_vec = h.Vector().record(soma(0.5)._ref_h_nav11)\n",
        "s_vec = h.Vector().record(soma(0.5)._ref_s_nav11)"
      ]
    },
    {
      "attachments": {},
      "cell_type": "markdown",
      "metadata": {},
      "source": [
        "Define plotting function"
      ]
    },
    {
      "cell_type": "code",
      "execution_count": null,
      "metadata": {},
      "outputs": [],
      "source": [
        "def run_and_plot_Vclamp_sim1(t,v,i,vc,axon):\n",
        "    # t - time Vector (NEURON object) (ms)\n",
        "    # v - voltage Vector (mV)\n",
        "    # i - current Vector (nA)\n",
        "    # vc - voltage clamp vector (mV)\n",
        "    # axon - NEURON Section of our axon model\n",
        "    # Run single voltage clamp simulation and plot\n",
        "    h.run()\n",
        "    t = t.to_python(np.zeros(len(t)))  # convert to numpy arrays (not actually necessary for plotting)\n",
        "    v = v.to_python(np.zeros(len(v)))\n",
        "    i = 1e-6*i.to_python(np.zeros(len(i)))/(axon(0.5).area()*1e-8) # converts to current density in mA/cm2        \n",
        "    # Plot results\n",
        "    fig = make_subplots(rows=3,cols=1)    \n",
        "    # voltage\n",
        "    fig.add_trace(go.Scatter(x=t,y=v),row=1,col=1)     \n",
        "    fig['layout']['yaxis']['title']='Vm (mV)'\n",
        "    fig.update_layout(yaxis = dict(range=[-80,50]))\n",
        "    # Current injected (converted to membrane current density)\n",
        "    fig.add_trace(go.Scatter(x=t,y=i),row=2,col=1)    \n",
        "    fig['layout']['yaxis2']['title']='Current density (mA/cm2)'    \n",
        "    # Clamp voltage\n",
        "    fig.add_trace(go.Scatter(x=t,y=vc),row=3,col=1) \n",
        "    fig['layout']['yaxis3']['title']='Vc (mV)'\n",
        "    fig['layout']['yaxis3']['title']='Vm (mV)'\n",
        "    fig['layout']['xaxis3']['title']='time (ms)'        \n",
        "    fig.show()"
      ]
    },
    {
      "attachments": {},
      "cell_type": "markdown",
      "metadata": {},
      "source": [
        "Run and plot"
      ]
    },
    {
      "cell_type": "code",
      "execution_count": null,
      "metadata": {},
      "outputs": [],
      "source": [
        "vclamp.amp2 = 0 # mV - second clamp voltage\n",
        "h.v_init = vclamp.amp1 # mV - initial voltage of the model system \n",
        "h.dt = 0.0125  # ms - time step\n",
        "h.celsius = 21 # degrees celsius - temperature of simulation, set to room temperature\n",
        "h.tstop = vclamp.dur1 + vclamp.dur2 + vclamp.dur3\n",
        "run_and_plot_Vclamp_sim1(t,V,Ina,Vc,soma)"
      ]
    },
    {
      "attachments": {},
      "cell_type": "markdown",
      "metadata": {},
      "source": [
        "Example of plotting m infinity curve"
      ]
    },
    {
      "cell_type": "code",
      "execution_count": null,
      "metadata": {},
      "outputs": [],
      "source": [
        "vtha = -21.2\n",
        "qa = 4.9\n",
        "v = np.linspace(-80,20,1000)\n",
        "mInf = 1/(1 + np.exp(-((v) - vtha)/qa))\n",
        "\n",
        "fig = plt.figure()\n",
        "ax = fig.add_subplot(111)\n",
        "ax.plot(v,mInf)"
      ]
    },
    {
      "attachments": {},
      "cell_type": "markdown",
      "metadata": {},
      "source": [
        "Example of current injection in single compartment cell with Mainen delayed rectifier potassium current. Note units are different for kv and nav11. Kv uses pS/µm2 and Nav1.1 uses S/cm2 (1 S/cm^2 = 10,000 pS/µm2)."
      ]
    },
    {
      "cell_type": "code",
      "execution_count": null,
      "metadata": {},
      "outputs": [],
      "source": [
        "soma = h.Section(name='soma')\n",
        "soma.diam = 25\n",
        "soma.L = 25\n",
        "soma.nseg = 1\n",
        "\n",
        "# Biophysics\n",
        "soma.cm = 1\n",
        "soma.insert('pas')\n",
        "soma.insert('extracellular')\n",
        "soma.g_pas = 5e-4\n",
        "soma.e_pas = -60\n",
        "soma.insert('nav11')\n",
        "soma.gbar_nav11 = 0.2\n",
        "\n",
        "soma.insert('kv')\n",
        "soma.gbar_kv = 150\n",
        "soma.ena = 50\n",
        "soma.ek = -80\n",
        "\n",
        "\n",
        "ic = h.IClamp(soma(0.5))\n",
        "ic.delay = 50\n",
        "ic.dur = 200\n",
        "ic.amp = 0.1\n",
        "\n",
        "h.v_init = -61 # mV - initial voltage of the model system \n",
        "h.dt = 0.005  # ms - time step\n",
        "h.celsius = 21 # degrees celsius - temperature of simulation, set to room temperature\n",
        "h.tstop = 250\n",
        "\n",
        "t = h.Vector().record(h._ref_t) # time vector\n",
        "V = h.Vector().record(soma(0.5)._ref_v) # intracellular voltage (same as membrane potential in our case)\n",
        "Im = h.Vector().record(soma(0.5)._ref_i_membrane)\n",
        "Ina = h.Vector().record(soma(0.5)._ref_ina_nav11)\n",
        "m_vec = h.Vector().record(soma(0.5)._ref_m_nav11)\n",
        "h_vec = h.Vector().record(soma(0.5)._ref_h_nav11)\n",
        "s_vec = h.Vector().record(soma(0.5)._ref_s_nav11)\n",
        "sTau_vec = h.Vector().record(soma(0.5)._ref_sTau_nav11)\n",
        "hTau_vec = h.Vector().record(soma(0.5)._ref_hTau_nav11)\n"
      ]
    },
    {
      "cell_type": "code",
      "execution_count": null,
      "metadata": {},
      "outputs": [],
      "source": [
        "h.celsius = 21\n",
        "ic.amp = 0.4\n",
        "h.run()\n",
        "\n",
        "fig = make_subplots(specs=[[{\"secondary_y\": True}]])\n",
        "fig.add_trace(go.Scatter(x=t,y=V,name='Vm',line=dict(color='rgb(0,0,0)')),secondary_y = False)\n",
        "\n",
        "fig.add_trace(go.Scatter(x=t,y=m_vec,name='m'),secondary_y = True)\n",
        "fig.add_trace(go.Scatter(x=t,y=h_vec,name='h'),secondary_y = True)\n",
        "fig.add_trace(go.Scatter(x=t,y=s_vec,name='s'),secondary_y = True)\n",
        "fig.add_trace(go.Scatter(x=t,y=sTau_vec/sTau_vec.max(),name='sTau'),secondary_y = True)\n",
        "# fig.add_trace(go.Scatter(x=t,y=hTau_vec/hTau_vec.max(),name='hTau'),secondary_y = True)\n",
        "fig.update_layout(yaxis = dict(range=[-80,50]))\n"
      ]
    },
    {
      "attachments": {},
      "cell_type": "markdown",
      "metadata": {},
      "source": [
        "Example code to insert the ichanWT2005.mod mechanism that includes their implementation of Nav1.1, with a leak and delayed rectifier (commented, in case you want to use it, replace the code above inserting the nav11, kv, and pas mechanisms with this one)"
      ]
    },
    {
      "cell_type": "code",
      "execution_count": null,
      "metadata": {},
      "outputs": [],
      "source": [
        "# soma.insert('ichanWT2005')\n",
        "# soma.enat = 50\n",
        "# soma.ekf = -80\n",
        "# soma.gnatbar_ichanWT2005 = 0.2\n",
        "# soma.gkfbar_ichanWT2005  = 0.06\n",
        "# soma.gl_ichanWT2005 = 0.0005\n",
        "# soma.el_ichanWT2005 = -60"
      ]
    }
  ],
  "metadata": {
    "colab": {
      "include_colab_link": true,
      "provenance": [],
      "toc_visible": true
    },
    "kernelspec": {
      "display_name": "Python 3",
      "name": "python3"
    },
    "language_info": {
      "codemirror_mode": {
        "name": "ipython",
        "version": 3
      },
      "file_extension": ".py",
      "mimetype": "text/x-python",
      "name": "python",
      "nbconvert_exporter": "python",
      "pygments_lexer": "ipython3",
      "version": "3.9.16"
    }
  },
  "nbformat": 4,
  "nbformat_minor": 0
}
