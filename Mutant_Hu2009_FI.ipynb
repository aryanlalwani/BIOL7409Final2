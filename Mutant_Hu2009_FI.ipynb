{
  "cells": [
    {
      "cell_type": "code",
      "execution_count": null,
      "metadata": {
        "colab": {
          "base_uri": "https://localhost:8080/"
        },
        "id": "UhEWSDn2QA4H",
        "outputId": "d3f51794-0e6b-4dbe-d3df-fc89342ae149"
      },
      "outputs": [
        {
          "name": "stdout",
          "output_type": "stream",
          "text": [
            "Looking in indexes: https://pypi.org/simple, https://us-python.pkg.dev/colab-wheels/public/simple/\n",
            "Requirement already satisfied: neuron in /usr/local/lib/python3.10/dist-packages (8.2.2)\n",
            "Requirement already satisfied: numpy>=1.9.3 in /usr/local/lib/python3.10/dist-packages (from neuron) (1.22.4)\n"
          ]
        }
      ],
      "source": [
        "!pip install neuron"
      ]
    },
    {
      "cell_type": "code",
      "execution_count": null,
      "metadata": {
        "colab": {
          "base_uri": "https://localhost:8080/"
        },
        "id": "08OniSriQA4J",
        "outputId": "bd856fe7-8671-48a3-db5d-9518d4e2bb20"
      },
      "outputs": [
        {
          "name": "stdout",
          "output_type": "stream",
          "text": [
            "Cloning into 'BIOL7409Final2'...\n",
            "remote: Enumerating objects: 95, done.\u001b[K\n",
            "remote: Counting objects:   2% (1/48)\u001b[K\rremote: Counting objects:   4% (2/48)\u001b[K\rremote: Counting objects:   6% (3/48)\u001b[K\rremote: Counting objects:   8% (4/48)\u001b[K\rremote: Counting objects:  10% (5/48)\u001b[K\rremote: Counting objects:  12% (6/48)\u001b[K\rremote: Counting objects:  14% (7/48)\u001b[K\rremote: Counting objects:  16% (8/48)\u001b[K\rremote: Counting objects:  18% (9/48)\u001b[K\rremote: Counting objects:  20% (10/48)\u001b[K\rremote: Counting objects:  22% (11/48)\u001b[K\rremote: Counting objects:  25% (12/48)\u001b[K\rremote: Counting objects:  27% (13/48)\u001b[K\rremote: Counting objects:  29% (14/48)\u001b[K\rremote: Counting objects:  31% (15/48)\u001b[K\rremote: Counting objects:  33% (16/48)\u001b[K\rremote: Counting objects:  35% (17/48)\u001b[K\rremote: Counting objects:  37% (18/48)\u001b[K\rremote: Counting objects:  39% (19/48)\u001b[K\rremote: Counting objects:  41% (20/48)\u001b[K\rremote: Counting objects:  43% (21/48)\u001b[K\rremote: Counting objects:  45% (22/48)\u001b[K\rremote: Counting objects:  47% (23/48)\u001b[K\rremote: Counting objects:  50% (24/48)\u001b[K\rremote: Counting objects:  52% (25/48)\u001b[K\rremote: Counting objects:  54% (26/48)\u001b[K\rremote: Counting objects:  56% (27/48)\u001b[K\rremote: Counting objects:  58% (28/48)\u001b[K\rremote: Counting objects:  60% (29/48)\u001b[K\rremote: Counting objects:  62% (30/48)\u001b[K\rremote: Counting objects:  64% (31/48)\u001b[K\rremote: Counting objects:  66% (32/48)\u001b[K\rremote: Counting objects:  68% (33/48)\u001b[K\rremote: Counting objects:  70% (34/48)\u001b[K\rremote: Counting objects:  72% (35/48)\u001b[K\rremote: Counting objects:  75% (36/48)\u001b[K\rremote: Counting objects:  77% (37/48)\u001b[K\rremote: Counting objects:  79% (38/48)\u001b[K\rremote: Counting objects:  81% (39/48)\u001b[K\rremote: Counting objects:  83% (40/48)\u001b[K\rremote: Counting objects:  85% (41/48)\u001b[K\rremote: Counting objects:  87% (42/48)\u001b[K\rremote: Counting objects:  89% (43/48)\u001b[K\rremote: Counting objects:  91% (44/48)\u001b[K\rremote: Counting objects:  93% (45/48)\u001b[K\rremote: Counting objects:  95% (46/48)\u001b[K\rremote: Counting objects:  97% (47/48)\u001b[K\rremote: Counting objects: 100% (48/48)\u001b[K\rremote: Counting objects: 100% (48/48), done.\u001b[K\n",
            "remote: Compressing objects: 100% (37/37), done.\u001b[K\n",
            "remote: Total 95 (delta 26), reused 23 (delta 11), pack-reused 47\u001b[K\n",
            "Unpacking objects: 100% (95/95), 1.58 MiB | 8.69 MiB/s, done.\n"
          ]
        }
      ],
      "source": [
        "repo_name = 'BIOL7409Final2'\n",
        "if 'google.colab' in str(get_ipython()): # Running on colab\n",
        "    import os        \n",
        "    # from distutils.dir_util import copy_tree\n",
        "    if not os.path.exists(repo_name):\n",
        "        !git clone https://github.com/aryanlalwani/{repo_name}.git # downloads repository into our Google colab session's file system        \n",
        "    \n",
        "    os.chdir(repo_name)        "
      ]
    },
    {
      "cell_type": "code",
      "execution_count": null,
      "metadata": {
        "colab": {
          "base_uri": "https://localhost:8080/"
        },
        "id": "hcr9IrjRzzrh",
        "outputId": "8f3175c4-7997-4c0a-e0e6-a59d96f6ff5f"
      },
      "outputs": [
        {
          "name": "stdout",
          "output_type": "stream",
          "text": [
            "/content/BIOL7409Final2/BIOL7409Final2/BIOL7409Final2/BIOL7409Final2/BIOL7409Final2\n",
            "Mod files: \"mechanisms2/mechanisms2/cad.mod\" \"mechanisms2/mechanisms2/ca.mod\" \"mechanisms2/mechanisms2/gabaa.mod\" \"mechanisms2/mechanisms2/ichan_T875M.mod\" \"mechanisms2/mechanisms2/ichanWT2005.mod\" \"mechanisms2/mechanisms2/ichanWT.mod\" \"mechanisms2/mechanisms2/kca.mod\" \"mechanisms2/mechanisms2/km.mod\" \"mechanisms2/mechanisms2/kv.mod\" \"mechanisms2/mechanisms2/na12.mod\" \"mechanisms2/mechanisms2/na16.mod\" \"mechanisms2/mechanisms2/Nav11.mod\" \"mechanisms2/mechanisms2/Nav11_R1648H.mod\" \"mechanisms2/mechanisms2/Nav11_T875M.mod\"\n",
            "\n",
            "Creating 'x86_64' directory for .o files.\n",
            "\n",
            " -> \u001b[32mCompiling\u001b[0m mod_func.cpp\n",
            " -> \u001b[32mNMODL\u001b[0m ../mechanisms2/cad.mod\n",
            " -> \u001b[32mNMODL\u001b[0m ../mechanisms2/ca.mod\n",
            "Translating ca.mod into /content/BIOL7409Final2/BIOL7409Final2/BIOL7409Final2/BIOL7409Final2/BIOL7409Final2/x86_64/ca.c\n",
            "Translating cad.mod into /content/BIOL7409Final2/BIOL7409Final2/BIOL7409Final2/BIOL7409Final2/BIOL7409Final2/x86_64/cad.c\n",
            "Notice: VERBATIM blocks are not thread safe\n",
            "Thread Safe\n",
            " -> \u001b[32mNMODL\u001b[0m ../mechanisms2/gabaa.mod\n",
            "Notice: This mechanism cannot be used with CVODE\n",
            "Notice: Assignment to the GLOBAL variable, \"tadj\", is not thread safe\n",
            " -> \u001b[32mNMODL\u001b[0m ../mechanisms2/ichan_T875M.mod\n",
            "Translating gabaa.mod into /content/BIOL7409Final2/BIOL7409Final2/BIOL7409Final2/BIOL7409Final2/BIOL7409Final2/x86_64/gabaa.c\n",
            "Notice: VERBATIM blocks are not thread safe\n",
            "Notice: This mechanism cannot be used with CVODE\n",
            "Notice: Assignment to the GLOBAL variable, \"Rtau\", is not thread safe\n",
            "Notice: Assignment to the GLOBAL variable, \"Rinf\", is not thread safe\n",
            " -> \u001b[32mNMODL\u001b[0m ../mechanisms2/ichanWT2005.mod\n",
            "Translating ichan_T875M.mod into /content/BIOL7409Final2/BIOL7409Final2/BIOL7409Final2/BIOL7409Final2/BIOL7409Final2/x86_64/ichan_T875M.c\n",
            "Notice: VERBATIM blocks are not thread safe\n",
            "Notice: This mechanism cannot be used with CVODE\n",
            "Warning: Default 6.3 of PARAMETER celsius will be ignored and set by NEURON.\n",
            " -> \u001b[32mNMODL\u001b[0m ../mechanisms2/ichanWT.mod\n",
            "Translating ichanWT2005.mod into /content/BIOL7409Final2/BIOL7409Final2/BIOL7409Final2/BIOL7409Final2/BIOL7409Final2/x86_64/ichanWT2005.c\n",
            "Notice: VERBATIM blocks are not thread safe\n",
            " -> \u001b[32mNMODL\u001b[0m ../mechanisms2/kca.mod\n",
            "Notice: This mechanism cannot be used with CVODE\n",
            "Warning: Default 6.3 of PARAMETER celsius will be ignored and set by NEURON.\n",
            "Translating ichanWT.mod into /content/BIOL7409Final2/BIOL7409Final2/BIOL7409Final2/BIOL7409Final2/BIOL7409Final2/x86_64/ichanWT.c\n",
            " -> \u001b[32mNMODL\u001b[0m ../mechanisms2/km.mod\n",
            "Translating kca.mod into /content/BIOL7409Final2/BIOL7409Final2/BIOL7409Final2/BIOL7409Final2/BIOL7409Final2/x86_64/kca.c\n",
            "Notice: VERBATIM blocks are not thread safe\n",
            "Notice: VERBATIM blocks are not thread safe\n",
            "Notice: This mechanism cannot be used with CVODE\n",
            "Notice: Assignment to the GLOBAL variable, \"tadj\", is not thread safe\n",
            "Notice: This mechanism cannot be used with CVODE\n",
            "Warning: Default 6.3 of PARAMETER celsius will be ignored and set by NEURON.\n",
            "Translating km.mod into /content/BIOL7409Final2/BIOL7409Final2/BIOL7409Final2/BIOL7409Final2/BIOL7409Final2/x86_64/km.c\n",
            "Notice: VERBATIM blocks are not thread safe\n",
            " -> \u001b[32mNMODL\u001b[0m ../mechanisms2/kv.mod\n",
            "Notice: This mechanism cannot be used with CVODE\n",
            "Notice: Assignment to the GLOBAL variable, \"tadj\", is not thread safe\n",
            " -> \u001b[32mNMODL\u001b[0m ../mechanisms2/na12.mod\n",
            "Translating kv.mod into /content/BIOL7409Final2/BIOL7409Final2/BIOL7409Final2/BIOL7409Final2/BIOL7409Final2/x86_64/kv.c\n",
            "Notice: VERBATIM blocks are not thread safe\n",
            "Notice: This mechanism cannot be used with CVODE\n",
            "Notice: Assignment to the GLOBAL variable, \"tadj\", is not thread safe\n",
            "Translating na12.mod into /content/BIOL7409Final2/BIOL7409Final2/BIOL7409Final2/BIOL7409Final2/BIOL7409Final2/x86_64/na12.c\n",
            "Notice: VERBATIM blocks are not thread safe\n",
            "Notice: This mechanism cannot be used with CVODE\n",
            "Notice: Assignment to the GLOBAL variable, \"tadj\", is not thread safe\n",
            " -> \u001b[32mNMODL\u001b[0m ../mechanisms2/na16.mod\n",
            " -> \u001b[32mNMODL\u001b[0m ../mechanisms2/Nav11.mod\n",
            " -> \u001b[32mNMODL\u001b[0m ../mechanisms2/Nav11_R1648H.mod\n",
            "Translating na16.mod into /content/BIOL7409Final2/BIOL7409Final2/BIOL7409Final2/BIOL7409Final2/BIOL7409Final2/x86_64/na16.c\n",
            "Notice: VERBATIM blocks are not thread safe\n",
            "Notice: This mechanism cannot be used with CVODE\n",
            "Notice: Assignment to the GLOBAL variable, \"tadj\", is not thread safe\n",
            "Translating Nav11.mod into /content/BIOL7409Final2/BIOL7409Final2/BIOL7409Final2/BIOL7409Final2/BIOL7409Final2/x86_64/Nav11.c\n",
            " -> \u001b[32mNMODL\u001b[0m ../mechanisms2/Nav11_T875M.mod\n",
            "Translating Nav11_T875M.mod into /content/BIOL7409Final2/BIOL7409Final2/BIOL7409Final2/BIOL7409Final2/BIOL7409Final2/x86_64/Nav11_T875M.c\n",
            "Thread Safe\n",
            "Thread Safe\n",
            "Translating Nav11_R1648H.mod into /content/BIOL7409Final2/BIOL7409Final2/BIOL7409Final2/BIOL7409Final2/BIOL7409Final2/x86_64/Nav11_R1648H.c\n",
            "Thread Safe\n",
            " -> \u001b[32mCompiling\u001b[0m cad.c\n",
            " -> \u001b[32mCompiling\u001b[0m ca.c\n",
            " -> \u001b[32mCompiling\u001b[0m gabaa.c\n",
            " -> \u001b[32mCompiling\u001b[0m ichan_T875M.c\n",
            " -> \u001b[32mCompiling\u001b[0m ichanWT2005.c\n",
            " -> \u001b[32mCompiling\u001b[0m ichanWT.c\n",
            " -> \u001b[32mCompiling\u001b[0m kca.c\n",
            " -> \u001b[32mCompiling\u001b[0m km.c\n",
            " -> \u001b[32mCompiling\u001b[0m kv.c\n",
            " -> \u001b[32mCompiling\u001b[0m na12.c\n",
            " -> \u001b[32mCompiling\u001b[0m na16.c\n",
            " -> \u001b[32mCompiling\u001b[0m Nav11.c\n",
            " -> \u001b[32mCompiling\u001b[0m Nav11_R1648H.c\n",
            " -> \u001b[32mCompiling\u001b[0m Nav11_T875M.c\n",
            " => \u001b[32mLINKING\u001b[0m shared library ./libnrnmech.so\n",
            " => \u001b[32mLINKING\u001b[0m executable ./special LDFLAGS are:    -pthread\n",
            "Successfully created x86_64/special\n"
          ]
        }
      ],
      "source": [
        "!nrnivmodl mechanisms2"
      ]
    },
    {
      "cell_type": "code",
      "execution_count": null,
      "metadata": {
        "id": "IbKvA1fyQA4K"
      },
      "outputs": [],
      "source": [
        "from neuron import h\n",
        "from neuron import gui\n",
        "from plotly.subplots import make_subplots\n",
        "import plotly.graph_objects as go\n",
        "import numpy as np\n",
        "import matplotlib.pyplot as plt"
      ]
    },
    {
      "cell_type": "code",
      "execution_count": null,
      "metadata": {
        "colab": {
          "base_uri": "https://localhost:8080/"
        },
        "id": "6ew_ECyLQA4K",
        "outputId": "add6853d-8964-4377-e7b7-88ced91c75b8"
      },
      "outputs": [
        {
          "name": "stdout",
          "output_type": "stream",
          "text": [
            "\n",
            "|----------|       soma(0-1)\n",
            "            `---------|       hill(0-1)\n",
            "                       `---------|       ais[0](0-1)\n",
            "                                  `---------|       ais[1](0-1)\n",
            "                                             `---------|       ais[2](0-1)\n",
            "                                                        `---------|       ais[3](0-1)\n",
            "                                                                   `---------|       ais[4](0-1)\n",
            "                                                                              `---------|       ais[5](0-1)\n",
            "                                                                                         `---------|       ais[6](0-1)\n",
            "                                                                                                    `---------|       ais[7](0-1)\n",
            "                                                                                                               `---------|       ais[8](0-1)\n",
            "                                                                                                                          `---------|       ais[9](0-1)\n",
            "                                                                                                                                     `---------------------------------------------------------------------------------------------------|       nakeaxon(0-1)\n",
            "                                                                                                                                                                                                                                          `----|       myelin[0](0-1)\n",
            "                                                                                                                                                                                                                                                `|       node[0](0-1)\n",
            "                                                                                                                                                                                                                                                  `----|       myelin[1](0-1)\n",
            "                                                                                                                                                                                                                                                        `|       node[1](0-1)\n",
            "                                                                                                                                                                                                                                                          `----|       myelin[2](0-1)\n",
            "                                                                                                                                                                                                                                                                `|       node[2](0-1)\n",
            "                                                                                                                                                                                                                                                                  `----|       myelin[3](0-1)\n",
            "                                                                                                                                                                                                                                                                        `|       node[3](0-1)\n",
            "                                                                                                                                                                                                                                                                          `----|       myelin[4](0-1)\n",
            "                                                                                                                                                                                                                                                                                `|       node[4](0-1)\n",
            "                                                                                                                                                                                                                                                                                  `----|       myelin[5](0-1)\n",
            "                                                                                                                                                                                                                                                                                        `|       node[5](0-1)\n",
            "                                                                                                                                                                                                                                                                                          `----|       myelin[6](0-1)\n",
            "                                                                                                                                                                                                                                                                                                `|       node[6](0-1)\n",
            "                                                                                                                                                                                                                                                                                                  `----|       myelin[7](0-1)\n",
            "                                                                                                                                                                                                                                                                                                        `|       node[7](0-1)\n",
            "                                                                                                                                                                                                                                                                                                          `----|       myelin[8](0-1)\n",
            "                                                                                                                                                                                                                                                                                                                `|       node[8](0-1)\n",
            "                                                                                                                                                                                                                                                                                                                  `----|       myelin[9](0-1)\n",
            "                                                                                                                                                                                                                                                                                                                        `|       node[9](0-1)\n",
            "                                                                                                                                                                                                                                                                                                                          `----|       myelin[10](0-1)\n",
            "                                                                                                                                                                                                                                                                                                                                `|       node[10](0-1)\n",
            "                                                                                                                                                                                                                                                                                                                                  `----|       myelin[11](0-1)\n",
            "                                                                                                                                                                                                                                                                                                                                        `|       node[11](0-1)\n",
            "                                                                                                                                                                                                                                                                                                                                          `----|       myelin[12](0-1)\n",
            "                                                                                                                                                                                                                                                                                                                                                `|       node[12](0-1)\n",
            "                                                                                                                                                                                                                                                                                                                                                  `----|       myelin[13](0-1)\n",
            "                                                                                                                                                                                                                                                                                                                                                        `|       node[13](0-1)\n",
            "       `|       dend1[0](0-1)\n",
            "         `|       dend1[1](0-1)\n",
            "           `------|       dend1[2](0-1)\n",
            "           `-|       dend1[3](0-1)\n",
            "              `---|       dend1[4](0-1)\n",
            "              `---|       dend1[5](0-1)\n",
            "         `|       dend1[6](0-1)\n",
            "           `----|       dend1[7](0-1)\n",
            "           `----|       dend1[8](0-1)\n",
            "       `|       dend2[0](0-1)\n",
            "         `|       dend2[1](0-1)\n",
            "           `-----|       dend2[2](0-1)\n",
            "           `----|       dend2[3](0-1)\n",
            "         `|       dend2[4](0-1)\n",
            "           `|       dend2[5](0-1)\n",
            "             `----|       dend2[6](0-1)\n",
            "             `|       dend2[7](0-1)\n",
            "               `-----|       dend2[8](0-1)\n",
            "               `------|       dend2[9](0-1)\n",
            "           `|       dend2[10](0-1)\n",
            "             `----|       dend2[11](0-1)\n",
            "             `-----|       dend2[12](0-1)\n",
            "       `|       dend3[0](0-1)\n",
            "         `------|       dend3[1](0-1)\n",
            "         `|       dend3[2](0-1)\n",
            "           `------|       dend3[3](0-1)\n",
            "           `-----|       dend3[4](0-1)\n",
            "       `|       dend4[0](0-1)\n",
            "         `--|       dend4[1](0-1)\n",
            "             `-|       dend4[2](0-1)\n",
            "             `--|       dend4[3](0-1)\n",
            "         `|       dend4[4](0-1)\n",
            "           `------|       dend4[5](0-1)\n",
            "           `----|       dend4[6](0-1)\n",
            "       `------|       dend5[0](0-1)\n",
            "       `|       dend6[0](0-1)\n",
            "         `-|       dend6[1](0-1)\n",
            "         `|       dend6[2](0-1)\n",
            "           `|       dend6[3](0-1)\n",
            "             `---|       dend6[4](0-1)\n",
            "             `----|       dend6[5](0-1)\n",
            "           `|       dend6[6](0-1)\n",
            "             `----|       dend6[7](0-1)\n",
            "             `|       dend6[8](0-1)\n",
            "               `-----|       dend6[9](0-1)\n",
            "               `-----|       dend6[10](0-1)\n",
            "       `|       dend7[0](0-1)\n",
            "         `-|       dend7[1](0-1)\n",
            "            `--|       dend7[2](0-1)\n",
            "            `|       dend7[3](0-1)\n",
            "              `--|       dend7[4](0-1)\n",
            "              `---|       dend7[5](0-1)\n",
            "         `|       dend7[6](0-1)\n",
            "           `-|       dend7[7](0-1)\n",
            "              `---|       dend7[8](0-1)\n",
            "              `----|       dend7[9](0-1)\n",
            "           `|       dend7[10](0-1)\n",
            "             `-----|       dend7[11](0-1)\n",
            "             `-----|       dend7[12](0-1)\n",
            "       `|       dend8[0](0-1)\n",
            "         `-----|       dend8[1](0-1)\n",
            "         `|       dend8[2](0-1)\n",
            "           `------|       dend8[3](0-1)\n",
            "           `----|       dend8[4](0-1)\n",
            "       `|       dend9[0](0-1)\n",
            "         `-----|       dend9[1](0-1)\n",
            "         `|       dend9[2](0-1)\n",
            "           `---|       dend9[3](0-1)\n",
            "           `-----|       dend9[4](0-1)\n",
            "       `|       dend10[0](0-1)\n",
            "         `-----|       dend10[1](0-1)\n",
            "         `|       dend10[2](0-1)\n",
            "           `-|       dend10[3](0-1)\n",
            "              `-|       dend10[4](0-1)\n",
            "              `---|       dend10[5](0-1)\n",
            "           `|       dend10[6](0-1)\n",
            "             `----|       dend10[7](0-1)\n",
            "             `|       dend10[8](0-1)\n",
            "               `------|       dend10[9](0-1)\n",
            "               `-----|       dend10[10](0-1)\n",
            " `|       dend11[0](0-1)\n",
            "   `|       dend11[1](0-1)\n",
            "     `--|       dend11[2](0-1)\n",
            "     `---|       dend11[3](0-1)\n",
            "   `|       dend11[4](0-1)\n",
            "     `|       dend11[5](0-1)\n",
            "       `-|       dend11[6](0-1)\n",
            "          `---|       dend11[7](0-1)\n",
            "          `---|       dend11[8](0-1)\n",
            "       `----|       dend11[9](0-1)\n",
            "     `|       dend11[10](0-1)\n",
            "       `|       dend11[11](0-1)\n",
            "         `-|       dend11[12](0-1)\n",
            "            `|       dend11[13](0-1)\n",
            "            `--|       dend11[14](0-1)\n",
            "         `---|       dend11[15](0-1)\n",
            "       `|       dend11[16](0-1)\n",
            "         `---|       dend11[17](0-1)\n",
            "         `|       dend11[18](0-1)\n",
            "           `---|       dend11[19](0-1)\n",
            "           `|       dend11[20](0-1)\n",
            "             `---|       dend11[21](0-1)\n",
            "             `---------|       dend11[22](0-1)\n",
            "                        `--|       dend11[23](0-1)\n",
            "                            `------|       dend11[24](0-1)\n",
            "                                    `-|       dend11[25](0-1)\n",
            "                                       `-------|       dend11[26](0-1)\n",
            "                                       `---|       dend11[27](0-1)\n",
            "                                            `----|       dend11[28](0-1)\n",
            "                                            `|       dend11[29](0-1)\n",
            "                                              `--|       dend11[30](0-1)\n",
            "                                              `---|       dend11[31](0-1)\n",
            "                                    `---|       dend11[32](0-1)\n",
            "                                         `--|       dend11[33](0-1)\n",
            "                                         `|       dend11[34](0-1)\n",
            "                                           `---|       dend11[35](0-1)\n",
            "                                           `---|       dend11[36](0-1)\n",
            "                                                `---|       dend11[37](0-1)\n",
            "                                                `-|       dend11[38](0-1)\n",
            "                            `----|       dend11[39](0-1)\n",
            "                                  `----|       dend11[40](0-1)\n",
            "                                        `|       dend11[41](0-1)\n",
            "                                          `--|       dend11[42](0-1)\n",
            "                                          `-|       dend11[43](0-1)\n",
            "                                             `--|       dend11[44](0-1)\n",
            "                                             `|       dend11[45](0-1)\n",
            "                                               `|       dend11[46](0-1)\n",
            "                                               `--|       dend11[47](0-1)\n",
            "                                        `--|       dend11[48](0-1)\n",
            "                                            `-|       dend11[49](0-1)\n",
            "                                            `-|       dend11[50](0-1)\n",
            "                                  `----|       dend11[51](0-1)\n",
            "                                        `-|       dend11[52](0-1)\n",
            "                                           `----|       dend11[53](0-1)\n",
            "                                           `--|       dend11[54](0-1)\n",
            "                                        `--|       dend11[55](0-1)\n",
            "                                            `---|       dend11[56](0-1)\n",
            "                                            `--|       dend11[57](0-1)\n",
            "                        `---------|       dend11[58](0-1)\n",
            "                                   `-|       dend11[59](0-1)\n",
            "                                      `----|       dend11[60](0-1)\n",
            "                                      `|       dend11[61](0-1)\n",
            "                                        `--|       dend11[62](0-1)\n",
            "                                        `|       dend11[63](0-1)\n",
            "                                          `---|       dend11[64](0-1)\n",
            "                                          `-|       dend11[65](0-1)\n",
            "                                             `|       dend11[66](0-1)\n",
            "                                               `|       dend11[67](0-1)\n",
            "                                               `-----|       dend11[68](0-1)\n",
            "                                             `---------|       dend11[69](0-1)\n",
            "                                   `-|       dend11[70](0-1)\n",
            "                                      `|       dend11[71](0-1)\n",
            "                                        `--|       dend11[72](0-1)\n",
            "                                            `-|       dend11[73](0-1)\n",
            "                                            `|       dend11[74](0-1)\n",
            "                                              `|       dend11[75](0-1)\n",
            "                                              `--|       dend11[76](0-1)\n",
            "                                        `-----|       dend11[77](0-1)\n",
            "                                      `--|       dend11[78](0-1)\n",
            "                                          `--|       dend11[79](0-1)\n",
            "                                          `-|       dend11[80](0-1)\n",
            "                                             `---|       dend11[81](0-1)\n",
            "                                             `---|       dend11[82](0-1)\n",
            "\n"
          ]
        },
        {
          "data": {
            "text/plain": [
              "1.0"
            ]
          },
          "execution_count": 61,
          "metadata": {},
          "output_type": "execute_result"
        }
      ],
      "source": [
        "h.load_file('Hu_model.hoc')\n",
        "\n",
        "h.topology()"
      ]
    },
    {
      "cell_type": "markdown",
      "metadata": {
        "id": "oRgTiXsaQA4L"
      },
      "source": [
        "All sections are now defined in HOC, so to access, we have to use `h.<section name>`. Or to make accessing things from python easier you can save the hoc section to a python variable"
      ]
    },
    {
      "cell_type": "code",
      "execution_count": null,
      "metadata": {
        "colab": {
          "base_uri": "https://localhost:8080/"
        },
        "id": "R7CG6OxgQA4N",
        "outputId": "7d420811-fa77-4792-b057-c0e563dc4dff"
      },
      "outputs": [
        {
          "name": "stdout",
          "output_type": "stream",
          "text": [
            "<class 'nrn.Section'>\n"
          ]
        },
        {
          "data": {
            "text/plain": [
              "dict_keys(['pas', 'cad', 'ca', 'kca', 'km', 'kv', 'na12', 'na16', 'nav11', 'nav11_T875M'])"
            ]
          },
          "execution_count": 62,
          "metadata": {},
          "output_type": "execute_result"
        }
      ],
      "source": [
        "soma = h.soma\n",
        "print(type(soma)) # python neuron section, can use python methods on hoc section\n",
        "soma.psection()['density_mechs'].keys() # look at channels inserted into soma\n"
      ]
    },
    {
      "cell_type": "markdown",
      "metadata": {
        "id": "e_siAbhIQA4O"
      },
      "source": [
        "Note: For whatever reason, Hu used both 'na' and 'na12' which are identical mod files and are both meant to represent Nav1.2. I replaced na in their code to na12 to make thing clearer. Their na is also different from the na.mod used in Mainen, so this allows you to use na.mod for the Mainen model and na12.mod for the Hu 2009 version of the Mainen model. Also, these mod files use $pS/\\mu m^{2}$, while the `Nav11.mod` and `ichanWT2005.mod` use $S/cm^{2}$ ($1 \\; S/cm^2 = 10,000 \\; pS/\\mu m^2$). \n",
        "\n",
        "Another note, this model has multiple sections defining the axon hillock and axon initial segment (AIS). It looks like changing somatic Nav (even without adding Nav1.1) doesn't seem to affect AP threshold or firing rate much. Hu 2009 paper shows this to some extent in Fig. 5D. This may be because the axon hillock and AIS have such high Nav channel density in this model (the exact density of Nav channels in the AIS is still debated). So, in addition to testing the effect of varyign Nav1.1 in the soma alone, you may want to vary nav1.1 in both the soma and axon hillock together. There's actually some evidence nav1.1 is expressed in the AIS of some cortical neurons (https://www.jneurosci.org/content/28/53/14329.short)"
      ]
    },
    {
      "cell_type": "code",
      "execution_count": null,
      "metadata": {
        "colab": {
          "base_uri": "https://localhost:8080/"
        },
        "id": "lbicc1f9QA4P",
        "outputId": "aee2f380-652d-4e2e-d256-4aa1c9278e11"
      },
      "outputs": [
        {
          "name": "stdout",
          "output_type": "stream",
          "text": [
            "0.0\n",
            "0.0\n"
          ]
        }
      ],
      "source": [
        "print(soma.gbar_na12)\n",
        "print(soma.gbar_na16) # this is set to zero (idk why they inserted this all...)\n",
        "\n",
        "total_soma_gna = 0.2*1e4 # pS/um^2 # number matches spampanato paper\n",
        "\n",
        "# Axon hillock \n",
        "hill = h.hill # name of axon hillock section\n",
        "total_hill_gna = hill.gbar_na12\n",
        "\n",
        "#proximal ais\n",
        "proxAIS = h.ais[0]\n",
        "\n",
        "#distal ais\n",
        "distAIS = h.ais[9]\n",
        "\n",
        "# Add IClamp\n",
        "iclamp = h.IClamp(soma(0.5))\n",
        "iclamp.delay = 5\n",
        "iclamp.dur = 300\n",
        "iclamp.amp = 0.1\n",
        "\n",
        "t_vec = h.Vector().record(h._ref_t)\n",
        "soma_v = h.Vector().record(soma(0.5)._ref_v)\n",
        "proxAIS_v = h.Vector().record(proxAIS(0.5)._ref_v)\n",
        "distAIS_v = h.Vector().record(distAIS(0.5)._ref_v)\n",
        "\n",
        "h.v_init = -60 # mV - initial voltage of the model system \n",
        "h.dt = 0.005  # ms - time step\n",
        "h.celsius = 21 # degrees celsius - temperature of simulation, set to room temperature\n",
        "h.tstop = 350"
      ]
    },
    {
      "cell_type": "markdown",
      "metadata": {
        "id": "Zo1_DwzKQA4R"
      },
      "source": [
        "Try adding Nav1.1 and setting conductance ratio."
      ]
    },
    {
      "cell_type": "code",
      "execution_count": null,
      "metadata": {
        "colab": {
          "base_uri": "https://localhost:8080/"
        },
        "id": "FsWIjVpcQA4S",
        "outputId": "3615d9f3-ee04-486d-c55d-8aaa575782ac"
      },
      "outputs": [
        {
          "name": "stdout",
          "output_type": "stream",
          "text": [
            "2000.0\n",
            "0.0\n"
          ]
        }
      ],
      "source": [
        "soma.insert('nav11_T875M')\n",
        "hill.insert('nav11_T875M')\n",
        "\n",
        "print(total_soma_gna)\n",
        "print(total_hill_gna)\n",
        "\n",
        "def set_soma_hill_nav11(nav11_ratio,total_soma_gna,total_hill_gna):\n",
        "    soma.gbar_nav11_T875M = nav11_ratio*total_soma_gna*1e-4 # convert to S/cm2\n",
        "    soma.gbar_na12 = (1-nav11_ratio)*total_soma_gna # pS/um^2\n",
        "    hill.gbar_nav11_T875M = nav11_ratio*total_hill_gna*1e-4 # convert to S/cm2\n",
        "    hill.gbar_na12 = (1-nav11_ratio)*total_hill_gna # pS/um^2"
      ]
    },
    {
      "cell_type": "code",
      "execution_count": null,
      "metadata": {
        "colab": {
          "background_save": true
        },
        "id": "s4OyRddOt1M0"
      },
      "outputs": [],
      "source": [
        "netcon = h.NetCon(soma(0.5)._ref_v,None, sec=soma) # Use NetCon to monitor axon voltage \n",
        "netcon.threshold = 0 # set threshold to detect AP\n",
        "# Record spike times\n",
        "spike_times = h.Vector()\n",
        "netcon.record(spike_times)\n",
        "\n",
        "amp_vec = np.linspace(0.5, 1.5, 10)\n",
        "\n",
        "F_vec = []\n",
        "for amp in amp_vec:\n",
        "    iclamp.amp = amp # nA\n",
        "    # Run\n",
        "    h.run()\n",
        "    if (amp > 0.49) and (amp < 0.5):\n",
        "      soma_mut_v = np.array(soma_v)\n",
        "    Fi = len(spike_times) # number of spikes divided by length of simulation in sec\n",
        "    F_vec.append(Fi)  \n",
        "\n",
        "iclamp.amp = 0.1"
      ]
    },
    {
      "cell_type": "code",
      "execution_count": null,
      "metadata": {
        "colab": {
          "background_save": true
        },
        "id": "sFee3L8Yu4sZ",
        "outputId": "9c844eb6-3d24-4353-bb27-991c022fc11e"
      },
      "outputs": [
        {
          "name": "stdout",
          "output_type": "stream",
          "text": [
            "2000.0\n",
            "0.0\n"
          ]
        }
      ],
      "source": [
        "soma.insert('nav11')\n",
        "hill.insert('nav11')\n",
        "\n",
        "print(total_soma_gna)\n",
        "print(total_hill_gna)\n",
        "\n",
        "def set_soma_hill_nav11(nav11_ratio,total_soma_gna,total_hill_gna):\n",
        "    soma.gbar_nav11 = nav11_ratio*total_soma_gna*1e-4 # convert to S/cm2\n",
        "    soma.gbar_na12 = (1-nav11_ratio)*total_soma_gna # pS/um^2\n",
        "    hill.gbar_nav11 = nav11_ratio*total_hill_gna*1e-4 # convert to S/cm2\n",
        "    hill.gbar_na12 = (1-nav11_ratio)*total_hill_gna # pS/um^2"
      ]
    },
    {
      "cell_type": "code",
      "execution_count": null,
      "metadata": {
        "colab": {
          "background_save": true
        },
        "id": "-AwqRJVHQA4T"
      },
      "outputs": [],
      "source": [
        "netcon = h.NetCon(soma(0.5)._ref_v,None, sec=soma) # Use NetCon to monitor axon voltage \n",
        "netcon.threshold = 0 # set threshold to detect AP\n",
        "# Record spike times\n",
        "spike_times = h.Vector()\n",
        "netcon.record(spike_times)\n",
        "\n",
        "F_vec2 = []\n",
        "for amp in amp_vec:\n",
        "    iclamp.amp = amp # nA\n",
        "    # Run\n",
        "    h.run()\n",
        "    if (amp > 0.49) and (amp < 0.5):\n",
        "      soma_mut_v = np.array(soma_v)\n",
        "    Fi = len(spike_times) # number of spikes divided by length of simulation in sec\n",
        "    F_vec2.append(Fi)  \n",
        "\n",
        "iclamp.amp = 0.1"
      ]
    },
    {
      "cell_type": "code",
      "execution_count": null,
      "metadata": {
        "colab": {
          "background_save": true
        },
        "id": "RS7eMjtvv85-",
        "outputId": "f7013966-8836-4d8d-852e-b958db1a8d89"
      },
      "outputs": [
        {
          "data": {
            "text/plain": [
              "<matplotlib.legend.Legend at 0x7fd720b29bd0>"
            ]
          },
          "execution_count": 68,
          "metadata": {},
          "output_type": "execute_result"
        },
        {
          "data": {
            "image/png": "[encoded data removed]",
            "text/plain": [
              "<Figure size 640x480 with 1 Axes>"
            ]
          },
          "metadata": {},
          "output_type": "display_data"
        }
      ],
      "source": [
        "fig = plt.figure()\n",
        "ax = fig.add_subplot(111)\n",
        "ax.plot(amp_vec*1e3, F_vec,label='T875M')\n",
        "ax.plot(amp_vec*1e3,F_vec2,label='WT')\n",
        "# ax.plot(amp_vec*1e3,F_vec5,label='Mutant R1648H')\n",
        "ax.set_ylabel('Number of spikes')\n",
        "ax.set_xlabel('Current Amplitude (pA)')\n",
        "ax.set_title('Action Potential Frequency')\n",
        "ax.legend()"
      ]
    }
  ],
  "metadata": {
    "colab": {
      "provenance": []
    },
    "kernelspec": {
      "display_name": "Python 3",
      "name": "python3"
    },
    "language_info": {
      "codemirror_mode": {
        "name": "ipython",
        "version": 3
      },
      "file_extension": ".py",
      "mimetype": "text/x-python",
      "name": "python",
      "nbconvert_exporter": "python",
      "pygments_lexer": "ipython3",
      "version": "3.9.16"
    }
  },
  "nbformat": 4,
  "nbformat_minor": 0
}