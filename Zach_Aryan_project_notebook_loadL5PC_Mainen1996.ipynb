{
  "cells": [
    {
      "cell_type": "code",
      "execution_count": null,
      "metadata": {},
      "outputs": [],
      "source": [
        "!pip install neuron"
      ]
    },
    {
      "cell_type": "code",
      "execution_count": null,
      "metadata": {},
      "outputs": [],
      "source": [
        "!nrnivmodl mechanisms"
      ]
    },
    {
      "cell_type": "code",
      "execution_count": null,
      "metadata": {},
      "outputs": [],
      "source": [
        "from neuron import h\n",
        "from neuron import gui\n",
        "from plotly.subplots import make_subplots\n",
        "import plotly.graph_objects as go\n",
        "import numpy as np\n",
        "import matplotlib.pyplot as plt"
      ]
    },
    {
      "cell_type": "code",
      "execution_count": null,
      "metadata": {},
      "outputs": [],
      "source": [
        "\n",
        "h.load_file('load_L5PC.hoc')\n",
        "\n",
        "h.topology()"
      ]
    },
    {
      "attachments": {},
      "cell_type": "markdown",
      "metadata": {},
      "source": [
        "All sections are now defined in HOC, so to access, we have to use `h.<section name>`. Or to make accessing things from python easier you can save the hoc section to a python variable"
      ]
    },
    {
      "cell_type": "code",
      "execution_count": null,
      "metadata": {},
      "outputs": [],
      "source": [
        "soma = h.soma\n",
        "print(type(soma)) # python neuron section, can use python methods on hoc section\n",
        "soma.psection()['density_mechs'].keys() # look at channels inserted into soma"
      ]
    },
    {
      "attachments": {},
      "cell_type": "markdown",
      "metadata": {},
      "source": [
        "Mainen mod files use $pS/\\mu m^{2}$, while the `Nav11.mod` and `ichanWT2005.mod` use $S/cm^{2}$ ($1 \\; S/cm^2 = 10,000 \\; pS/\\mu m^2$). "
      ]
    },
    {
      "cell_type": "code",
      "execution_count": null,
      "metadata": {},
      "outputs": [],
      "source": [
        "print(soma.gbar_na)\n",
        "\n",
        "total_soma_gna = soma.gbar_na # pS/um^2\n",
        "\n",
        "# Axon hillock \n",
        "hill = h.hill # name of axon hillock section\n",
        "total_hill_gna = hill.gbar_na\n",
        "\n",
        "# Add IClamp\n",
        "iclamp = h.IClamp(soma(0.5))\n",
        "iclamp.delay = 5\n",
        "iclamp.dur = 1000\n",
        "iclamp.amp = 0.2 \n",
        "\n",
        "t_vec = h.Vector().record(h._ref_t)\n",
        "soma_v = h.Vector().record(soma(0.5)._ref_v)"
      ]
    },
    {
      "attachments": {},
      "cell_type": "markdown",
      "metadata": {},
      "source": [
        "Try adding Nav1.1 and setting conductance ratio. A"
      ]
    },
    {
      "cell_type": "code",
      "execution_count": null,
      "metadata": {},
      "outputs": [],
      "source": [
        "soma.insert('nav11')\n",
        "hill.insert('nav11')\n",
        "\n",
        "def set_soma_hill_nav11(nav11_ratio,total_soma_gna,total_hill_gna):\n",
        "    soma.gbar_nav11 = nav11_ratio*total_soma_gna*1e-4 # convert to S/cm2\n",
        "    soma.gbar_na = (1-nav11_ratio)*total_soma_gna # pS/um^2\n",
        "    hill.gbar_nav11 = nav11_ratio*total_hill_gna*1e-4 # convert to S/cm2\n",
        "    hill.gbar_na = (1-nav11_ratio)*total_hill_gna # pS/um^2"
      ]
    },
    {
      "cell_type": "code",
      "execution_count": null,
      "metadata": {},
      "outputs": [],
      "source": [
        "nav11_ratio = 0 # set ratio (0-1) of nav1.1 to nav1.2 density\n",
        "# Try using nav1.1 in soma/axon hillock\n",
        "set_soma_hill_nav11(nav11_ratio,total_soma_gna,total_hill_gna)\n",
        "\n",
        "# Set simulation parameters and run\n",
        "h.celsius = 37\n",
        "h.tstop = 1000\n",
        "h.run()\n",
        "soma_v_nav11_off = np.array(soma_v) # save somatic voltage recording\n",
        "\n",
        "# Turn on Nav1.1 exclusively\n",
        "nav11_ratio = 1\n",
        "set_soma_hill_nav11(nav11_ratio,total_soma_gna,total_hill_gna)\n",
        "h.run()\n",
        "soma_v_nav11_on = np.array(soma_v) # save somatic voltage recording\n",
        "\n",
        "# Plot \n",
        "\n",
        "fig = plt.figure()\n",
        "ax = fig.add_subplot(111)\n",
        "ax.plot(t_vec,soma_v_nav11_off,label='nav11 off')\n",
        "ax.plot(t_vec,soma_v_nav11_on,label='nav11 on')\n",
        "ax.set_xlabel('time (ms)')\n",
        "ax.set_ylabel('Vm (mV)');\n",
        "ax.set_ylim(-80,50)\n",
        "ax.legend();\n",
        "# Reset to normal\n",
        "set_soma_hill_nav11(0,total_soma_gna,total_hill_gna)\n"
      ]
    },
    {
      "attachments": {},
      "cell_type": "markdown",
      "metadata": {},
      "source": []
    }
  ],
  "metadata": {
    "colab": {
      "include_colab_link": true,
      "provenance": [],
      "toc_visible": true
    },
    "kernelspec": {
      "display_name": "Python 3",
      "name": "python3"
    },
    "language_info": {
      "codemirror_mode": {
        "name": "ipython",
        "version": 3
      },
      "file_extension": ".py",
      "mimetype": "text/x-python",
      "name": "python",
      "nbconvert_exporter": "python",
      "pygments_lexer": "ipython3",
      "version": "3.9.16"
    }
  },
  "nbformat": 4,
  "nbformat_minor": 0
}
